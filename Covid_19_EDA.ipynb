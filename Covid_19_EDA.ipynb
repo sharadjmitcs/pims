{
 "cells": [
  {
   "cell_type": "code",
   "execution_count": 2,
   "id": "d585bbea",
   "metadata": {},
   "outputs": [
    {
     "data": {
      "text/html": [
       "<div>\n",
       "<style scoped>\n",
       "    .dataframe tbody tr th:only-of-type {\n",
       "        vertical-align: middle;\n",
       "    }\n",
       "\n",
       "    .dataframe tbody tr th {\n",
       "        vertical-align: top;\n",
       "    }\n",
       "\n",
       "    .dataframe thead th {\n",
       "        text-align: right;\n",
       "    }\n",
       "</style>\n",
       "<table border=\"1\" class=\"dataframe\">\n",
       "  <thead>\n",
       "    <tr style=\"text-align: right;\">\n",
       "      <th></th>\n",
       "      <th>State/UTs</th>\n",
       "      <th>Total Cases</th>\n",
       "      <th>Active</th>\n",
       "      <th>Discharged</th>\n",
       "      <th>Deaths</th>\n",
       "      <th>Active Ratio (%)</th>\n",
       "      <th>Discharge Ratio (%)</th>\n",
       "      <th>Death Ratio (%)</th>\n",
       "    </tr>\n",
       "  </thead>\n",
       "  <tbody>\n",
       "    <tr>\n",
       "      <th>0</th>\n",
       "      <td>Maharashtra</td>\n",
       "      <td>6214190</td>\n",
       "      <td>106809</td>\n",
       "      <td>5980350</td>\n",
       "      <td>127031</td>\n",
       "      <td>1.72</td>\n",
       "      <td>96.24</td>\n",
       "      <td>2.04</td>\n",
       "    </tr>\n",
       "    <tr>\n",
       "      <th>1</th>\n",
       "      <td>Kerala</td>\n",
       "      <td>3160937</td>\n",
       "      <td>125535</td>\n",
       "      <td>3020052</td>\n",
       "      <td>15350</td>\n",
       "      <td>3.97</td>\n",
       "      <td>95.54</td>\n",
       "      <td>0.49</td>\n",
       "    </tr>\n",
       "    <tr>\n",
       "      <th>2</th>\n",
       "      <td>Karnataka</td>\n",
       "      <td>2883947</td>\n",
       "      <td>29314</td>\n",
       "      <td>2818476</td>\n",
       "      <td>36157</td>\n",
       "      <td>1.02</td>\n",
       "      <td>97.73</td>\n",
       "      <td>1.25</td>\n",
       "    </tr>\n",
       "    <tr>\n",
       "      <th>3</th>\n",
       "      <td>Tamil Nadu</td>\n",
       "      <td>2535402</td>\n",
       "      <td>27897</td>\n",
       "      <td>2473781</td>\n",
       "      <td>33724</td>\n",
       "      <td>1.10</td>\n",
       "      <td>97.57</td>\n",
       "      <td>1.33</td>\n",
       "    </tr>\n",
       "    <tr>\n",
       "      <th>4</th>\n",
       "      <td>Andhra Pradesh</td>\n",
       "      <td>1940096</td>\n",
       "      <td>24708</td>\n",
       "      <td>1902256</td>\n",
       "      <td>13132</td>\n",
       "      <td>1.27</td>\n",
       "      <td>98.05</td>\n",
       "      <td>0.68</td>\n",
       "    </tr>\n",
       "  </tbody>\n",
       "</table>\n",
       "</div>"
      ],
      "text/plain": [
       "        State/UTs  Total Cases  Active  Discharged  Deaths  Active Ratio (%)  \\\n",
       "0     Maharashtra      6214190  106809     5980350  127031              1.72   \n",
       "1          Kerala      3160937  125535     3020052   15350              3.97   \n",
       "2       Karnataka      2883947   29314     2818476   36157              1.02   \n",
       "3      Tamil Nadu      2535402   27897     2473781   33724              1.10   \n",
       "4  Andhra Pradesh      1940096   24708     1902256   13132              1.27   \n",
       "\n",
       "   Discharge Ratio (%)  Death Ratio (%)  \n",
       "0                96.24             2.04  \n",
       "1                95.54             0.49  \n",
       "2                97.73             1.25  \n",
       "3                97.57             1.33  \n",
       "4                98.05             0.68  "
      ]
     },
     "execution_count": 2,
     "metadata": {},
     "output_type": "execute_result"
    }
   ],
   "source": [
    "import pandas as pd\n",
    "\n",
    "df = pd.read_csv(\"/kaggle/input/latest-covid19-india-statewise-data/Latest Covid-19 India Status.csv\")\n",
    "\n",
    "df.head(5)"
   ]
  },
  {
   "cell_type": "code",
   "execution_count": 3,
   "id": "d4b1b4a2",
   "metadata": {},
   "outputs": [
    {
     "data": {
      "text/plain": [
       "State/UTs              0\n",
       "Total Cases            0\n",
       "Active                 0\n",
       "Discharged             0\n",
       "Deaths                 0\n",
       "Active Ratio (%)       0\n",
       "Discharge Ratio (%)    0\n",
       "Death Ratio (%)        0\n",
       "dtype: int64"
      ]
     },
     "execution_count": 3,
     "metadata": {},
     "output_type": "execute_result"
    }
   ],
   "source": [
    "df.isnull().sum()"
   ]
  },
  {
   "cell_type": "code",
   "execution_count": 4,
   "id": "7794b234",
   "metadata": {},
   "outputs": [
    {
     "data": {
      "text/plain": [
       "<AxesSubplot:>"
      ]
     },
     "execution_count": 4,
     "metadata": {},
     "output_type": "execute_result"
    },
    {
     "data": {
      "image/png": "[encoded data removed]",
      "text/plain": [
       "<Figure size 432x288 with 1 Axes>"
      ]
     },
     "metadata": {
      "needs_background": "light"
     },
     "output_type": "display_data"
    }
   ],
   "source": [
    "import matplotlib.pyplot as plt\n",
    "\n",
    "df.boxplot(column='Active')"
   ]
  },
  {
   "cell_type": "code",
   "execution_count": 6,
   "id": "29880eb8",
   "metadata": {},
   "outputs": [
    {
     "data": {
      "text/plain": [
       "{'whiskers': [<matplotlib.lines.Line2D at 0x263d3f6a250>,\n",
       "  <matplotlib.lines.Line2D at 0x263d3f6a610>],\n",
       " 'caps': [<matplotlib.lines.Line2D at 0x263d3f6ad30>,\n",
       "  <matplotlib.lines.Line2D at 0x263d3b840d0>],\n",
       " 'boxes': [<matplotlib.lines.Line2D at 0x263d146b3a0>],\n",
       " 'medians': [<matplotlib.lines.Line2D at 0x263d3f68fd0>],\n",
       " 'fliers': [<matplotlib.lines.Line2D at 0x263d146b490>],\n",
       " 'means': []}"
      ]
     },
     "execution_count": 6,
     "metadata": {},
     "output_type": "execute_result"
    },
    {
     "data": {
      "image/png": "[encoded data removed]",
      "text/plain": [
       "<Figure size 432x288 with 1 Axes>"
      ]
     },
     "metadata": {
      "needs_background": "light"
     },
     "output_type": "display_data"
    }
   ],
   "source": [
    "df.boxplot(column='['Deaths'])"
   ]
  },
  {
   "cell_type": "code",
   "execution_count": 11,
   "id": "9ae5734c",
   "metadata": {},
   "outputs": [
    {
     "data": {
      "text/plain": [
       "<AxesSubplot:>"
      ]
     },
     "execution_count": 11,
     "metadata": {},
     "output_type": "execute_result"
    },
    {
     "data": {
      "image/png": "[encoded data removed]",
      "text/plain": [
       "<Figure size 432x288 with 1 Axes>"
      ]
     },
     "metadata": {
      "needs_background": "light"
     },
     "output_type": "display_data"
    }
   ],
   "source": [
    "df.boxplot(column=['Discharged'])"
   ]
  }
 ],
 "metadata": {
  "kernelspec": {
   "display_name": "Python 3 (ipykernel)",
   "language": "python",
   "name": "python3"
  },
  "language_info": {
   "codemirror_mode": {
    "name": "ipython",
    "version": 3
   },
   "file_extension": ".py",
   "mimetype": "text/x-python",
   "name": "python",
   "nbconvert_exporter": "python",
   "pygments_lexer": "ipython3",
   "version": "3.8.0"
  }
 },
 "nbformat": 4,
 "nbformat_minor": 5
}
